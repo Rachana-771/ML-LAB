{
  "nbformat": 4,
  "nbformat_minor": 0,
  "metadata": {
    "colab": {
      "provenance": []
    },
    "kernelspec": {
      "name": "python3",
      "display_name": "Python 3"
    },
    "language_info": {
      "name": "python"
    }
  },
  "cells": [
    {
      "cell_type": "code",
      "execution_count": 3,
      "metadata": {
        "colab": {
          "base_uri": "https://localhost:8080/"
        },
        "id": "lUXZP6zpNG0A",
        "outputId": "f60841af-f962-4f72-ebc6-3dd8ddc8ff35"
      },
      "outputs": [
        {
          "output_type": "stream",
          "name": "stdout",
          "text": [
            "     Pclass     Sex   Age  SibSp  Parch     Fare\n",
            "0         3    male  22.0      1      0   7.2500\n",
            "1         1  female  38.0      1      0  71.2833\n",
            "2         3  female  26.0      0      0   7.9250\n",
            "3         1  female  35.0      1      0  53.1000\n",
            "4         3    male  35.0      0      0   8.0500\n",
            "..      ...     ...   ...    ...    ...      ...\n",
            "886       2    male  27.0      0      0  13.0000\n",
            "887       1  female  19.0      0      0  30.0000\n",
            "888       3  female   NaN      1      2  23.4500\n",
            "889       1    male  26.0      0      0  30.0000\n",
            "890       3    male  32.0      0      0   7.7500\n",
            "\n",
            "[891 rows x 6 columns]\n",
            "Accuracy: 0.80\n",
            "\n",
            "Classification Report:\n",
            "               precision    recall  f1-score   support\n",
            "\n",
            "           0       0.82      0.85      0.83       105\n",
            "           1       0.77      0.73      0.75        74\n",
            "\n",
            "    accuracy                           0.80       179\n",
            "   macro avg       0.79      0.79      0.79       179\n",
            "weighted avg       0.80      0.80      0.80       179\n",
            "\n"
          ]
        }
      ],
      "source": [
        "import pandas as pd\n",
        "from sklearn.model_selection import train_test_split\n",
        "from sklearn.ensemble import RandomForestClassifier\n",
        "from sklearn.metrics import accuracy_score, classification_report\n",
        "import warnings\n",
        "warnings.filterwarnings('ignore')\n",
        "\n",
        "url = \"https://raw.githubusercontent.com/datasciencedojo/datasets/master/titanic.csv\"\n",
        "titanic_data = pd.read_csv(url)\n",
        "\n",
        "titanic_data = titanic_data.dropna(subset=['Survived'])\n",
        "\n",
        "\n",
        "X = titanic_data[['Pclass', 'Sex', 'Age', 'SibSp', 'Parch', 'Fare']]\n",
        "print(X)\n",
        "y = titanic_data['Survived']\n",
        "\n",
        "\n",
        "X.loc[:, 'Sex'] = X['Sex'].map({'female': 0, 'male': 1})\n",
        "\n",
        "X.loc[:, 'Age'].fillna(X['Age'].median(), inplace=True)\n",
        "\n",
        "X_train, X_test, y_train, y_test = train_test_split(X, y, test_size=0.2, random_state=42)\n",
        "\n",
        "\n",
        "rf_classifier = RandomForestClassifier(n_estimators=100, random_state=42)\n",
        "\n",
        "\n",
        "rf_classifier.fit(X_train, y_train)\n",
        "\n",
        "y_pred = rf_classifier.predict(X_test)\n",
        "\n",
        "\n",
        "accuracy = accuracy_score(y_test, y_pred)\n",
        "classification_rep = classification_report(y_test, y_pred)\n",
        "\n",
        "\n",
        "print(f\"Accuracy: {accuracy:.2f}\")\n",
        "print(\"\\nClassification Report:\\n\", classification_rep)\n"
      ]
    }
  ]
}
{
  "nbformat": 4,
  "nbformat_minor": 0,
  "metadata": {
    "colab": {
      "provenance": []
    },
    "kernelspec": {
      "name": "python3",
      "display_name": "Python 3"
    },
    "language_info": {
      "name": "python"
    }
  },
  "cells": [
    {
      "cell_type": "code",
      "execution_count": null,
      "metadata": {
        "colab": {
          "base_uri": "https://localhost:8080/"
        },
        "id": "pPELaNdt_qLC",
        "outputId": "e48e812f-6e70-4f95-e534-7c24f67452ad"
      },
      "outputs": [
        {
          "output_type": "execute_result",
          "data": {
            "text/plain": [
              "Index(['CET_score', 'Admitted '], dtype='object')"
            ]
          },
          "metadata": {},
          "execution_count": 28
        }
      ],
      "source": [
        "import pandas as pd\n",
        "import xlrd\n",
        "data = pd.read_excel('CET_dataset.xlsx')\n",
        "data.to_csv (\"data.csv\",  index = None, header=True)\n",
        "data = pd.DataFrame(pd.read_csv(\"data.csv\"))\n",
        "\n",
        "# show the dataframe\n",
        "data.columns\n"
      ]
    },
    {
      "cell_type": "code",
      "source": [
        "from sklearn.model_selection import train_test_split\n",
        "from matplotlib import pyplot as plt\n",
        "%matplotlib inline\n",
        "# Assuming you've already read the CSV file into the DataFrame 'df'\n",
        "plt.scatter(data['CET_score'], data['Admitted '], marker='.', color='purple')\n",
        "\n",
        "# Splitting the data into training and testing sets\n",
        "X_train, X_test, y_train, y_test = train_test_split(data[['CET_score']],data['Admitted '], train_size=0.8)\n",
        "\n",
        "# Displaying X_test\n",
        "print(X_test)"
      ],
      "metadata": {
        "colab": {
          "base_uri": "https://localhost:8080/",
          "height": 1000
        },
        "id": "XATaA6nnHLwN",
        "outputId": "d64bf035-34ce-4cb8-ebb7-afe8658b360a"
      },
      "execution_count": null,
      "outputs": [
        {
          "output_type": "stream",
          "name": "stdout",
          "text": [
            "     CET_score\n",
            "25         370\n",
            "99         292\n",
            "83         412\n",
            "46         388\n",
            "91         392\n",
            "152        360\n",
            "33         360\n",
            "50         308\n",
            "111        322\n",
            "141        300\n",
            "6          390\n",
            "147        280\n",
            "129        390\n",
            "148        350\n",
            "151        320\n",
            "96         282\n",
            "92         412\n",
            "106        362\n",
            "86         392\n",
            "159        390\n",
            "137        350\n",
            "123        410\n",
            "80         482\n",
            "45         428\n",
            "72         358\n",
            "39         390\n",
            "114        382\n",
            "18         240\n",
            "131        390\n",
            "117        282\n",
            "62         248\n",
            "20         320\n"
          ]
        },
        {
          "output_type": "display_data",
          "data": {
            "text/plain": [
              "<Figure size 640x480 with 1 Axes>"
            ],
            "image/png": "[encoded data removed]"
          },
          "metadata": {}
        }
      ]
    },
    {
      "cell_type": "code",
      "source": [
        "from sklearn.linear_model import LogisticRegression\n",
        "\n",
        "model = LogisticRegression()\n",
        "\n",
        "model.fit(X_train, y_train)\n",
        "\n",
        "print(X_test)"
      ],
      "metadata": {
        "colab": {
          "base_uri": "https://localhost:8080/"
        },
        "id": "vgQ1hjq9Kg2f",
        "outputId": "d7a8cd0f-3b16-4d4f-82cc-bf2a6dcc0691"
      },
      "execution_count": null,
      "outputs": [
        {
          "output_type": "stream",
          "name": "stdout",
          "text": [
            "     CET_score\n",
            "25         370\n",
            "99         292\n",
            "83         412\n",
            "46         388\n",
            "91         392\n",
            "152        360\n",
            "33         360\n",
            "50         308\n",
            "111        322\n",
            "141        300\n",
            "6          390\n",
            "147        280\n",
            "129        390\n",
            "148        350\n",
            "151        320\n",
            "96         282\n",
            "92         412\n",
            "106        362\n",
            "86         392\n",
            "159        390\n",
            "137        350\n",
            "123        410\n",
            "80         482\n",
            "45         428\n",
            "72         358\n",
            "39         390\n",
            "114        382\n",
            "18         240\n",
            "131        390\n",
            "117        282\n",
            "62         248\n",
            "20         320\n"
          ]
        }
      ]
    },
    {
      "cell_type": "code",
      "source": [
        "y_predicted = model.predict(X_test)\n",
        "\n",
        "model.predict_proba(X_test)\n",
        "\n",
        "model.score(X_test,y_test)\n",
        "\n",
        "print(y_predicted)\n",
        "\n",
        "print(X_test)"
      ],
      "metadata": {
        "colab": {
          "base_uri": "https://localhost:8080/"
        },
        "id": "TZKPQwtPK3CU",
        "outputId": "c08fe695-9ae8-4826-9551-3af961ce48c7"
      },
      "execution_count": null,
      "outputs": [
        {
          "output_type": "stream",
          "name": "stdout",
          "text": [
            "[1 0 1 1 1 1 1 0 0 0 1 0 1 0 0 0 1 1 1 1 0 1 1 1 1 1 1 0 1 0 0 0]\n",
            "     CET_score\n",
            "25         370\n",
            "99         292\n",
            "83         412\n",
            "46         388\n",
            "91         392\n",
            "152        360\n",
            "33         360\n",
            "50         308\n",
            "111        322\n",
            "141        300\n",
            "6          390\n",
            "147        280\n",
            "129        390\n",
            "148        350\n",
            "151        320\n",
            "96         282\n",
            "92         412\n",
            "106        362\n",
            "86         392\n",
            "159        390\n",
            "137        350\n",
            "123        410\n",
            "80         482\n",
            "45         428\n",
            "72         358\n",
            "39         390\n",
            "114        382\n",
            "18         240\n",
            "131        390\n",
            "117        282\n",
            "62         248\n",
            "20         320\n"
          ]
        }
      ]
    },
    {
      "cell_type": "code",
      "source": [
        "from sklearn.linear_model import LinearRegression\n",
        "\n",
        "model = LinearRegression()\n",
        "\n",
        "model.fit(X_train, y_train)\n",
        "\n",
        "print(\"Coefficient (m):\", model.coef_)\n",
        "\n",
        "print(\"Intercept (b):\", model.intercept_)"
      ],
      "metadata": {
        "colab": {
          "base_uri": "https://localhost:8080/"
        },
        "id": "KW8XVEI5LAad",
        "outputId": "7743d38b-23ad-43cb-bb28-c4aa9a100038"
      },
      "execution_count": null,
      "outputs": [
        {
          "output_type": "stream",
          "name": "stdout",
          "text": [
            "Coefficient (m): [0.00648906]\n",
            "Intercept (b): -1.780285404063906\n"
          ]
        }
      ]
    },
    {
      "cell_type": "code",
      "source": [
        "import math\n",
        "\n",
        "def sigmoid(x):\n",
        "    return 1 / (1 + math.exp(-x))\n",
        "\n",
        "# Example usage:\n",
        "x = 0\n",
        "sigmoid_value = sigmoid(x)\n",
        "print(\"Sigmoid value at x =\", x, \":\", sigmoid_value)"
      ],
      "metadata": {
        "colab": {
          "base_uri": "https://localhost:8080/"
        },
        "id": "2Jgqt4qWLFNd",
        "outputId": "ea395c05-374a-467e-939b-cd0c27cf2a18"
      },
      "execution_count": null,
      "outputs": [
        {
          "output_type": "stream",
          "name": "stdout",
          "text": [
            "Sigmoid value at x = 0 : 0.5\n"
          ]
        }
      ]
    },
    {
      "cell_type": "code",
      "source": [
        "import math\n",
        "\n",
        "def sigmoid(x):\n",
        "    return 1 / (1 + math.exp(-x))\n",
        "\n",
        "def prediction_function(CET_score):\n",
        "    # Coefficients obtained from your model\n",
        "    m = 0.006\n",
        "    b = -1.780\n",
        "\n",
        "    # Linear transformation\n",
        "    z = m * CET_score + b\n",
        "\n",
        "    # Applying sigmoid activation function\n",
        "    y = sigmoid(z)\n",
        "\n",
        "    return y"
      ],
      "metadata": {
        "id": "pAhUClNILOks"
      },
      "execution_count": null,
      "outputs": []
    },
    {
      "cell_type": "code",
      "source": [
        "predicted_probability = prediction_function(500)\n",
        "print(\"Predicted probability when CET_score is 500 :\", predicted_probability)"
      ],
      "metadata": {
        "colab": {
          "base_uri": "https://localhost:8080/"
        },
        "id": "skbVfbsALeS7",
        "outputId": "1a2b29b7-2261-46b7-e27c-ca62f0863365"
      },
      "execution_count": null,
      "outputs": [
        {
          "output_type": "stream",
          "name": "stdout",
          "text": [
            "Predicted probability when CET_score is 500 : 0.9999999964982396\n"
          ]
        }
      ]
    }
  ]
}